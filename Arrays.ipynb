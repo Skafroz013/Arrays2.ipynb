{
 "cells": [
  {
   "cell_type": "code",
   "execution_count": 2,
   "id": "c3f0a001-d806-43a0-9c44-90634d71bdfb",
   "metadata": {},
   "outputs": [
    {
     "name": "stdout",
     "output_type": "stream",
     "text": [
      "True\n"
     ]
    }
   ],
   "source": [
    "#1. Given an array, check if it contains any duplicates or not.\n",
    "#arr = [1,2,4,2,5,9]\n",
    "#Output = True\n",
    "arr = [1, 2, 4, 2, 5, 9]\n",
    "def has_duplicates(arr):\n",
    "    seen = set()\n",
    "    for element in arr:\n",
    "        if element in seen:\n",
    "            return True\n",
    "        seen.add(element)\n",
    "    return False\n",
    "\n",
    "arr = [1,2,4,2,5,9]\n",
    "result = has_duplicates(arr)\n",
    "print(result)"
   ]
  },
  {
   "cell_type": "code",
   "execution_count": 4,
   "id": "f2984e1b-cab4-4916-9ce2-858466a9ea6d",
   "metadata": {},
   "outputs": [
    {
     "name": "stdout",
     "output_type": "stream",
     "text": [
      "[5, 6, 7, 1, 2, 3, 4]\n"
     ]
    }
   ],
   "source": [
    "#2. Given an array and an integer k, rotate the array to the right by k steps. \n",
    "#arr = [1, 2, 3, 4, 5, 6, 7] k = 3 \n",
    "#Output = [5, 6, 7, 1, 2, 3, 4]\n",
    "def rotate_array(arr, k):\n",
    "    n = len(arr)\n",
    "    k = k % n\n",
    "    arr.reverse()\n",
    "    arr[:k] = reversed(arr[:k])\n",
    "    \n",
    "    arr[k:] = reversed(arr[k:])\n",
    "\n",
    "arr = [1,2,3,4,5,6,7]\n",
    "k = 3\n",
    "rotate_array(arr, k)\n",
    "print(arr)"
   ]
  },
  {
   "cell_type": "code",
   "execution_count": 11,
   "id": "ac6413b0-a9b9-429b-a816-a9b5d932b27b",
   "metadata": {},
   "outputs": [
    {
     "name": "stdout",
     "output_type": "stream",
     "text": [
      "[12, 9, 7, 5, 4, 2]\n"
     ]
    }
   ],
   "source": [
    "#3. Reverse the given array in-place, means without using any extra data structure. \n",
    "#arr = [2, 4, 5, 7, 9, 12] \n",
    "#Output = [12, 9, 7, 5, 4, 2]\n",
    "def reverse_array_in_place(arr):\n",
    "    start = 0\n",
    "    end = len(arr) - 1\n",
    "\n",
    "    while start < end:\n",
    "     \n",
    "        arr[start], arr[end] = arr[end], arr[start]\n",
    "\n",
    "        \n",
    "        start += 1\n",
    "        end -= 1\n",
    "\n",
    "arr = [2, 4, 5, 7, 9, 12]\n",
    "reverse_array_in_place(arr)\n",
    "print(arr)\n"
   ]
  },
  {
   "cell_type": "code",
   "execution_count": 18,
   "id": "82aee20f-8a96-4037-98e6-cd9faba7e3bc",
   "metadata": {},
   "outputs": [
    {
     "name": "stdout",
     "output_type": "stream",
     "text": [
      "20\n"
     ]
    }
   ],
   "source": [
    "#4 Given an array of integers, find the maximum element in an array\n",
    "#arr = [10, 5, 20, 8, 15]\n",
    "\n",
    "def find_max_element(arr):\n",
    "    if not arr:\n",
    "        return None  \n",
    "    max_element = arr[0] \n",
    "\n",
    "    for element in arr:\n",
    "        if element > max_element:\n",
    "            max_element = element \n",
    "\n",
    "    return max_element\n",
    "\n",
    "arr = [10, 5, 20, 8, 15]\n",
    "max_element = find_max_element(arr)\n",
    "print(max_element)\n"
   ]
  },
  {
   "cell_type": "code",
   "execution_count": 4,
   "id": "2ed44cca-ef4c-4840-8dee-6a2bf8ee207a",
   "metadata": {},
   "outputs": [
    {
     "name": "stdout",
     "output_type": "stream",
     "text": [
      "Array with duplicates: [1, 2, 3, 4, 5, 6, 4, 5, 6, 6]\n",
      "Array without duplicates: [1, 2, 3, 4, 5, 6]\n"
     ]
    }
   ],
   "source": [
    "#5. Given a sorted array, remove the duplicate element without using any extra data structure. \n",
    "#arr = [1, 1, 2, 2, 2, 3, 3, 4, 4, 4, 5, 5] \n",
    "#Output = [1, 2, 3, 4, 5]\n",
    "\n",
    "def remove_duplicates(arr):\n",
    "    if not arr:\n",
    "        return 0  # Empty array, no duplicates\n",
    "\n",
    "    unique_index = 0  # Index to track the unique elements\n",
    "\n",
    "    for i in range(1, len(arr)):\n",
    "        if arr[i] != arr[unique_index]:\n",
    "            unique_index += 1\n",
    "            arr[unique_index] = arr[i]\n",
    "\n",
    "    return unique_index + 1  # Length of the array with unique elements\n",
    "\n",
    "# Example usage:\n",
    "sorted_array = [1, 1, 2, 2, 3, 4, 4, 5, 6, 6]\n",
    "new_length = remove_duplicates(sorted_array)\n",
    "\n",
    "print(\"Array with duplicates:\", sorted_array[:len(sorted_array)])\n",
    "print(\"Array without duplicates:\", sorted_array[:new_length])"
   ]
  },
  {
   "cell_type": "code",
   "execution_count": null,
   "id": "9b9bbe59-43e3-439b-bce9-9f55d4708714",
   "metadata": {},
   "outputs": [],
   "source": []
  }
 ],
 "metadata": {
  "kernelspec": {
   "display_name": "Python 3 (ipykernel)",
   "language": "python",
   "name": "python3"
  },
  "language_info": {
   "codemirror_mode": {
    "name": "ipython",
    "version": 3
   },
   "file_extension": ".py",
   "mimetype": "text/x-python",
   "name": "python",
   "nbconvert_exporter": "python",
   "pygments_lexer": "ipython3",
   "version": "3.10.8"
  }
 },
 "nbformat": 4,
 "nbformat_minor": 5
}
